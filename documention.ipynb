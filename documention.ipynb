{
 "cells": [
  {
   "cell_type": "markdown",
   "metadata": {},
   "source": [
    "تشخیص حالت چهره با مجموعه باز (Open-Set Facial Expression Recognition) یک مسئله پیچیده در حوزه بینایی ماشین و یادگیری عمیق است. در سیستم‌های تشخیص حالت چهره، معمولاً از داده‌های آموزشی استفاده می‌شود که شامل تصاویر چهره با برچسب‌های مشخص (مانند خوشحالی، ناراحتی، تعجب و غیره) است. این نوع سیستم‌ها به عنوان \"مجموعه بسته\" (Closed-Set) شناخته می‌شوند، زیرا فرض می‌شود که تمام حالت‌های ممکن در داده‌های آموزشی وجود دارند.\n",
    "\n",
    "اما در یک سناریوی \"مجموعه باز\"، سیستم باید قادر باشد تا حالات چهره‌ای را که در داده‌های آموزشی وجود ندارند نیز تشخیص دهد. به عبارت دیگر، سیستم باید بتواند به درستی تشخیص دهد که یک حالت چهره جدید و ناشناخته است و نباید آن را به اشتباه به یکی از حالات آشنا نسبت دهد.\n",
    "\n",
    "این چالش شامل تکنیک‌های مختلفی مانند استفاده از شبکه‌های عصبی، روش‌های یادگیری عمیق و الگوریتم‌های پیشرفته برای تشخیص و مدیریت برچسب‌های نادرست (noisy labels) و افزایش دقت تشخیص در مواجهه با داده‌های ناشناخته است.\n",
    "\n",
    "Open-Set Facial Expression Recognition (Open-Set FER) is a complex problem in the field of computer vision and deep learning. In facial expression recognition systems, training data typically includes images of faces with specific labels (such as happiness, sadness, surprise, etc.). These systems are known as \"Closed-Set\" because it is assumed that all possible expressions are present in the training data.\n",
    "\n",
    "However, in an \"Open-Set\" scenario, the system must be able to recognize facial expressions that are not present in the training data. In other words, the system should accurately identify when a facial expression is new and unknown, without mistakenly classifying it as one of the familiar expressions.\n",
    "\n",
    "This challenge involves various techniques, such as using neural networks, deep learning methods, and advanced algorithms to detect and handle noisy labels and improve recognition accuracy when faced with unknown data.\n",
    "\n",
    "مدل‌های تشخیص حالت چهره (FER) معمولاً بر روی مجموعه داده‌هایی با تعداد ثابت هفت کلاس اصلی آموزش داده می‌شوند. با این حال، تحقیقات اخیر (Cowen et al. 2021; Bryant et al. 2022; Kollias 2023) نشان می‌دهند که حالت‌های چهره بسیار بیشتری نسبت به این کلاس‌های پایه وجود دارد. بنابراین، وقتی این مدل‌ها در دنیای واقعی به کار گرفته می‌شوند، ممکن است با کلاس‌های ناشناخته‌ای مواجه شوند، مانند حالت‌های ترکیبی که نمی‌توانند به کلاس‌های پایه موجود دسته‌بندی شوند. برای حل این مسئله، ما برای اولین بار وظیفه تشخیص حالت چهره با مجموعه باز (open-set FER) را پیشنهاد می‌کنیم.\n",
    "با اینکه روش‌های زیادی برای تشخیص مجموعه باز وجود دارد، ما معتقدیم که این روش‌ها برای FER با مجموعه باز به خوبی عمل نمی‌کنند، زیرا داده‌های FER همه چهره‌های انسانی هستند که فاصله بین کلاسی بسیار کمی دارند. این موضوع باعث می‌شود که نمونه‌های مجموعه باز بسیار شبیه به نمونه‌های مجموعه بسته باشند. در این مقاله، ما اولین کسانی هستیم که این نقطه ضعفِ فاصله بین کلاسی کوچک را به یک مزیت تبدیل کرده و روش جدیدی برای FER با مجموعه باز پیشنهاد می‌کنیم. به طور خاص، ما دریافتیم که فاصله بین کلاسی کوچک اجازه می‌دهد برچسب‌های مصنوعی پراکنده‌ای برای نمونه‌های مجموعه باز توزیع شوند که می‌توانند به عنوان برچسب‌های نویزی متقارن در نظر گرفته شوند.\n",
    "بر اساس این مشاهده جدید، ما تشخیص FER با مجموعه باز را به یک مسئله تشخیص برچسب نویزی تبدیل می‌کنیم. ما همچنین یک روش جدید پیشنهاد می‌کنیم که شامل سازگاری نقشه توجه (attention map consistency) و آموزش چرخه‌ای (cycle training) برای تشخیص نمونه‌های مجموعه باز است. آزمایش‌های گسترده روی مجموعه‌های داده FER مختلف نشان می‌دهد که روش ما به وضوح روش‌های پیشرفته تشخیص مجموعه باز را با اختلاف زیادی پشت سر می‌گذارد.\n",
    "\n",
    "Facial expression recognition (FER) models are typically trained on datasets with a fixed number of seven basic classes. However, recent research (Cowen et al. 2021; Bryant et al. 2022; Kollias 2023) suggests that there are far more facial expressions than just these basic ones. Therefore, when these models are deployed in the real world, they may encounter unknown classes, such as compound expressions that cannot be classified into the existing basic classes. To address this issue, we propose the open-set FER task for the first time.\n",
    "\n",
    "While many open-set recognition methods exist, we argue that they do not work well for open-set FER because FER data consists entirely of human faces with very small inter-class distances. This small inter-class distance makes open-set samples very similar to closed-set samples. In this paper, we are the first to turn the disadvantage of small inter-class distance into an advantage by proposing a new approach for open-set FER. Specifically, we find that the small inter-class distance allows for sparsely distributed pseudo labels of open-set samples, which can be viewed as symmetric noisy labels.\n",
    "\n",
    "Based on this novel observation, we convert the open-set FER problem into a noisy label detection problem. Furthermore, we propose a novel method that incorporates attention map consistency and cycle training to detect open-set samples. Extensive experiments on various FER datasets demonstrate that our method significantly outperforms state-of-the-art open-set recognition methods by large margins."
   ]
  },
  {
   "cell_type": "markdown",
   "metadata": {},
   "source": [
    "تشخیص حالت چهره (FER) در محاسبات متمرکز بر انسان اهمیت زیادی دارد زیرا به ماشین‌ها کمک می‌کند تا احساسات انسانی را درک کنند (Li و Deng 2020). مدل‌های FER موجود بر روی مجموعه‌های داده‌ای با تعداد ثابت هفت کلاس اصلی آموزش داده می‌شوند. با این حال، تحقیقات اخیر منتشر شده در مجلات و کنفرانس‌های برتر (Cowen et al. 2021؛ Bryant et al. 2022؛ Kollias 2023) نشان می‌دهد که انسان‌ها می‌توانند حالات چهره‌ای بسیار بیشتری نسبت به این کلاس‌های پایه نشان دهند. بنابراین، زمانی که این مدل‌ها در دنیای واقعی به کار گرفته می‌شوند، ممکن است با حالات ناشناخته‌ای مواجه شوند، مانند حالات ترکیبی که به کلاس‌های پایه موجود نمی‌خورد. مدل‌های FER با مجموعه بسته که فقط بر روی کلاس‌های پایه آموزش داده شده‌اند، در شناسایی این حالات ناشناخته دچار مشکل می‌شوند و این حالات را با اعتماد بالا به یکی از کلاس‌های شناخته شده اشتباه دسته‌بندی می‌کنند که این موضوع کاربرد عملی آن‌ها را محدود می‌کند.\n",
    "برای حل این مشکل، ما برای اولین بار مفهوم FER با مجموعه باز (open-set FER) را پیشنهاد می‌دهیم. روش‌های تشخیص مجموعه باز موجود وجود دارند، اما این روش‌ها معمولاً در FER با مجموعه باز موفق نیستند زیرا داده‌های FER فاصله بین کلاسی بسیار کمی دارند. این فاصله کوچک باعث می‌شود که نمونه‌های مجموعه باز بسیار مشابه به نمونه‌های مجموعه بسته باشند و عملکرد روش‌های پیشرفته تشخیص مجموعه باز مانند DIAS کاهش یابد.\n",
    "رویکرد ما چالش فاصله کوچک بین کلاس‌ها را به یک مزیت تبدیل می‌کند. ما از این فاصله کوچک برای شناسایی برچسب‌های مصنوعی (pseudo labels) نمونه‌های مجموعه باز استفاده می‌کنیم که می‌توان آن‌ها را به عنوان برچسب‌های نویزی متقارن در نظر گرفت. ما مسئله FER با مجموعه باز را به یک مسئله شناسایی برچسب نویزی تبدیل می‌کنیم. ما یک روش جدید پیشنهاد می‌کنیم که شامل سازگاری نقشه توجه و آموزش چرخه‌ای برای شناسایی نمونه‌های مجموعه باز است. آزمایش‌های گسترده ما بر روی مجموعه‌های مختلف داده FER نشان می‌دهد که روش ما به وضوح از روش‌های موجود در تشخیص مجموعه باز بهتر عمل می‌کند و عملکرد را بیش از 20% بر اساس AUROC بهبود می‌بخشد.\n",
    "برای حل مشکل شناسایی کلاس‌های ناشناخته در حالی که دقت بالا بر روی کلاس‌های شناخته شده حفظ می‌شود، ما رویکرد جدیدی برای FER با مجموعه باز پیشنهاد می‌کنیم. ما از برچسب‌های مصنوعی مدل FER آموزش داده شده بر روی مجموعه بسته استفاده می‌کنیم تا نمونه‌های مجموعه باز را شناسایی کنیم، که دارای برچسب‌های مصنوعی اشتباهی در تمام کلاس‌های بسته هستند. سپس ما از آموزش چرخه‌ای و سازگاری نقشه توجه برای تصحیح این شناسایی استفاده می‌کنیم. روش ما منجر به توزیع دوتایی از مقادیر ضرر می‌شود، با ضررهای کم برای نمونه‌های مجموعه بسته و ضررهای بالا برای نمونه‌های مجموعه باز. آزمایش‌های گسترده تأیید می‌کند که روش ما از تکنیک‌های پیشرفته موجود بهتر عمل می‌کند و عملکرد قوی در پیش‌بینی آنلاین بدون نیاز به آموزش مجدد نشان می‌دهد.\n",
    "\n"
   ]
  }
 ],
 "metadata": {
  "kernelspec": {
   "display_name": "base",
   "language": "python",
   "name": "python3"
  },
  "language_info": {
   "codemirror_mode": {
    "name": "ipython",
    "version": 3
   },
   "file_extension": ".py",
   "mimetype": "text/x-python",
   "name": "python",
   "nbconvert_exporter": "python",
   "pygments_lexer": "ipython3",
   "version": "3.12.2"
  }
 },
 "nbformat": 4,
 "nbformat_minor": 2
}

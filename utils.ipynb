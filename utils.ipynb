{
 "cells": [
  {
   "cell_type": "markdown",
   "metadata": {},
   "source": [
    "this part of project is for  image preprocessing and augmentation tasks, with some additional utility functions that help in ensuring reproducibility and handling spatial transformations. "
   ]
  },
  {
   "cell_type": "code",
   "execution_count": 1,
   "metadata": {},
   "outputs": [],
   "source": [
    "import torch\n",
    "import cv2\n",
    "import numpy as np\n",
    "import random\n"
   ]
  },
  {
   "cell_type": "markdown",
   "metadata": {},
   "source": [
    "i install all packages on ubuntu.22.04.3 LTS .\n",
    "\n",
    "```1. Image Augmentation```"
   ]
  },
  {
   "cell_type": "code",
   "execution_count": 2,
   "metadata": {},
   "outputs": [],
   "source": [
    "def add_g(image_array, mean=0.0, var=30):\n",
    "    std = var ** 0.5 #standart deviation = jaazr viariance\n",
    "    image_add = image_array + np.random.normal(mean, std, image_array.shape)\n",
    "    image_add = np.clip(image_add, 0, 255).astype(np.uint8)\n",
    "    return image_add\n"
   ]
  },
  {
   "cell_type": "markdown",
   "metadata": {},
   "source": [
    "in this function we want add gaussian noise to an image.\n",
    "what is gaussian noise and we add it to  our images?Robustness: Adding Gaussian noise to training data can help make machine learning models more robust. The model learns to recognize patterns even when the data is slightly altered by noise.\n",
    "_\"Generalization:\"_ This practice can improve the model's ability to generalize to new, unseen data by preventing it from _overfitting_ to the training data's exact features.\n",
    "Simulating Real-World Conditions: In real-world scenarios, data is often noisy. By introducing controlled noise during training, we simulate these conditions and prepare the model for similar challenges."
   ]
  },
  {
   "cell_type": "code",
   "execution_count": 3,
   "metadata": {},
   "outputs": [],
   "source": [
    "def flip_image(image_array):\n",
    "    return cv2.flip(image_array, 1)\n"
   ]
  },
  {
   "cell_type": "markdown",
   "metadata": {},
   "source": [
    "Flips an image horizontally"
   ]
  },
  {
   "cell_type": "markdown",
   "metadata": {},
   "source": [
    "`Reproducibility:`"
   ]
  },
  {
   "cell_type": "code",
   "execution_count": 4,
   "metadata": {},
   "outputs": [],
   "source": [
    "def setup_seed(seed):\n",
    "    torch.manual_seed(seed)\n",
    "    torch.cuda.manual_seed_all(seed)\n",
    "    np.random.seed(seed)\n",
    "    random.seed(seed)\n",
    "    torch.backends.cudnn.deterministic = True\n"
   ]
  },
  {
   "cell_type": "markdown",
   "metadata": {},
   "source": [
    " `Spatial Transformations:`"
   ]
  },
  {
   "cell_type": "code",
   "execution_count": null,
   "metadata": {},
   "outputs": [],
   "source": [
    "def generate_flip_grid(w, h, device):\n",
    "    # used to flip attention maps\n",
    "    x_ = torch.arange(w).view(1, -1).expand(h, -1)\n",
    "    y_ = torch.arange(h).view(-1, 1).expand(-1, w)\n",
    "    grid = torch.stack([x_, y_], dim=0).float().to(device)\n",
    "    grid = grid.unsqueeze(0).expand(1, -1, -1, -1)\n",
    "    grid[:, 0, :, :] = 2 * grid[:, 0, :, :] / (w - 1) - 1\n",
    "    grid[:, 1, :, :] = 2 * grid[:, 1, :, :] / (h - 1) - 1\n",
    "    grid[:, 0, :, :] = -grid[:, 0, :, :]\n",
    "    return grid\n"
   ]
  }
 ],
 "metadata": {
  "kernelspec": {
   "display_name": "base",
   "language": "python",
   "name": "python3"
  },
  "language_info": {
   "codemirror_mode": {
    "name": "ipython",
    "version": 3
   },
   "file_extension": ".py",
   "mimetype": "text/x-python",
   "name": "python",
   "nbconvert_exporter": "python",
   "pygments_lexer": "ipython3",
   "version": "3.12.2"
  }
 },
 "nbformat": 4,
 "nbformat_minor": 2
}
